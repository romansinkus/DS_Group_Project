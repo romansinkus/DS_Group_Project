{
 "cells": [
  {
   "cell_type": "markdown",
   "metadata": {},
   "source": [
    "Stroke Prediction Classification \n"
   ]
  },
  {
   "cell_type": "markdown",
   "metadata": {},
   "source": [
    "Introduction:\n",
    "\n",
    "The 5th highest cause of death and the leading cause of disability in the United States is due in part to strokes (Cerebrovascular Accidents). Strokes are the result of an insufficient supply of oxygen and nutrients to the brain due to a blood vessel bursting. Subsequently, brain cells die, which can often cause right-sided weakness/paralysis, and sensory impairment.\n",
    "This prediction classification project will answer the question of whether or not someone is likely to experience a stroke based on 8 different core factors relating to health and demographic.\n",
    "The “Stroke Prediction Dataset”, acquired from kaggle.com, contains 12 columns, including different factors that may affect someone’s likelihood of experiencing a stroke, as well as whether or not the patient experienced a stroke, and other patient information.\n"
   ]
  },
  {
   "cell_type": "code",
   "execution_count": 20,
   "metadata": {},
   "outputs": [
    {
     "name": "stderr",
     "output_type": "stream",
     "text": [
      "Warning message in file(filename, \"r\", encoding = encoding):\n",
      "“cannot open file 'cleanup.R': No such file or directory”\n"
     ]
    },
    {
     "ename": "ERROR",
     "evalue": "Error in file(filename, \"r\", encoding = encoding): cannot open the connection\n",
     "output_type": "error",
     "traceback": [
      "Error in file(filename, \"r\", encoding = encoding): cannot open the connection\nTraceback:\n",
      "1. source(\"cleanup.R\")",
      "2. file(filename, \"r\", encoding = encoding)"
     ]
    }
   ],
   "source": [
    "library(repr)\n",
    "library(tidyverse)\n",
    "library(tidymodels)\n",
    "options(repr.matrix.max.rows = 6)\n",
    "source(\"cleanup.R\")"
   ]
  },
  {
   "cell_type": "code",
   "execution_count": 22,
   "metadata": {},
   "outputs": [
    {
     "name": "stderr",
     "output_type": "stream",
     "text": [
      "Parsed with column specification:\n",
      "cols(\n",
      "  id = \u001b[32mcol_double()\u001b[39m,\n",
      "  gender = \u001b[31mcol_character()\u001b[39m,\n",
      "  age = \u001b[32mcol_double()\u001b[39m,\n",
      "  hypertension = \u001b[32mcol_double()\u001b[39m,\n",
      "  heart_disease = \u001b[32mcol_double()\u001b[39m,\n",
      "  ever_married = \u001b[31mcol_character()\u001b[39m,\n",
      "  work_type = \u001b[31mcol_character()\u001b[39m,\n",
      "  Residence_type = \u001b[31mcol_character()\u001b[39m,\n",
      "  avg_glucose_level = \u001b[32mcol_double()\u001b[39m,\n",
      "  bmi = \u001b[31mcol_character()\u001b[39m,\n",
      "  smoking_status = \u001b[31mcol_character()\u001b[39m,\n",
      "  stroke = \u001b[32mcol_double()\u001b[39m\n",
      ")\n",
      "\n",
      "Warning message:\n",
      "“Problem with `mutate()` input `bmi`.\n",
      "\u001b[34mℹ\u001b[39m NAs introduced by coercion\n",
      "\u001b[34mℹ\u001b[39m Input `bmi` is `as.numeric(bmi)`.”\n",
      "Warning message in mask$eval_all_mutate(dots[[i]]):\n",
      "“NAs introduced by coercion”\n"
     ]
    },
    {
     "data": {
      "text/html": [
       "<table>\n",
       "<caption>A tibble: 4830 × 9</caption>\n",
       "<thead>\n",
       "\t<tr><th scope=col>gender</th><th scope=col>age</th><th scope=col>hypertension</th><th scope=col>heart_disease</th><th scope=col>residence_type</th><th scope=col>avg_glucose_level</th><th scope=col>bmi</th><th scope=col>smoking_status</th><th scope=col>stroke</th></tr>\n",
       "\t<tr><th scope=col>&lt;chr&gt;</th><th scope=col>&lt;dbl&gt;</th><th scope=col>&lt;dbl&gt;</th><th scope=col>&lt;fct&gt;</th><th scope=col>&lt;fct&gt;</th><th scope=col>&lt;dbl&gt;</th><th scope=col>&lt;dbl&gt;</th><th scope=col>&lt;chr&gt;</th><th scope=col>&lt;fct&gt;</th></tr>\n",
       "</thead>\n",
       "<tbody>\n",
       "\t<tr><td>Male  </td><td>67</td><td>0</td><td>1</td><td>Urban</td><td>228.69</td><td>36.6</td><td>formerly smoked</td><td>1</td></tr>\n",
       "\t<tr><td>Male  </td><td>80</td><td>0</td><td>1</td><td>Rural</td><td>105.92</td><td>32.5</td><td>never smoked   </td><td>1</td></tr>\n",
       "\t<tr><td>Female</td><td>49</td><td>0</td><td>0</td><td>Urban</td><td>171.23</td><td>34.4</td><td>smokes         </td><td>1</td></tr>\n",
       "\t<tr><td>⋮</td><td>⋮</td><td>⋮</td><td>⋮</td><td>⋮</td><td>⋮</td><td>⋮</td><td>⋮</td><td>⋮</td></tr>\n",
       "\t<tr><td>Female</td><td>35</td><td>0</td><td>0</td><td>Rural</td><td> 82.99</td><td>30.6</td><td>never smoked   </td><td>0</td></tr>\n",
       "\t<tr><td>Male  </td><td>51</td><td>0</td><td>0</td><td>Rural</td><td>166.29</td><td>25.6</td><td>formerly smoked</td><td>0</td></tr>\n",
       "\t<tr><td>Female</td><td>44</td><td>0</td><td>0</td><td>Urban</td><td> 85.28</td><td>26.2</td><td>Unknown        </td><td>0</td></tr>\n",
       "</tbody>\n",
       "</table>\n"
      ],
      "text/latex": [
       "A tibble: 4830 × 9\n",
       "\\begin{tabular}{lllllllll}\n",
       " gender & age & hypertension & heart\\_disease & residence\\_type & avg\\_glucose\\_level & bmi & smoking\\_status & stroke\\\\\n",
       " <chr> & <dbl> & <dbl> & <fct> & <fct> & <dbl> & <dbl> & <chr> & <fct>\\\\\n",
       "\\hline\n",
       "\t Male   & 67 & 0 & 1 & Urban & 228.69 & 36.6 & formerly smoked & 1\\\\\n",
       "\t Male   & 80 & 0 & 1 & Rural & 105.92 & 32.5 & never smoked    & 1\\\\\n",
       "\t Female & 49 & 0 & 0 & Urban & 171.23 & 34.4 & smokes          & 1\\\\\n",
       "\t ⋮ & ⋮ & ⋮ & ⋮ & ⋮ & ⋮ & ⋮ & ⋮ & ⋮\\\\\n",
       "\t Female & 35 & 0 & 0 & Rural &  82.99 & 30.6 & never smoked    & 0\\\\\n",
       "\t Male   & 51 & 0 & 0 & Rural & 166.29 & 25.6 & formerly smoked & 0\\\\\n",
       "\t Female & 44 & 0 & 0 & Urban &  85.28 & 26.2 & Unknown         & 0\\\\\n",
       "\\end{tabular}\n"
      ],
      "text/markdown": [
       "\n",
       "A tibble: 4830 × 9\n",
       "\n",
       "| gender &lt;chr&gt; | age &lt;dbl&gt; | hypertension &lt;dbl&gt; | heart_disease &lt;fct&gt; | residence_type &lt;fct&gt; | avg_glucose_level &lt;dbl&gt; | bmi &lt;dbl&gt; | smoking_status &lt;chr&gt; | stroke &lt;fct&gt; |\n",
       "|---|---|---|---|---|---|---|---|---|\n",
       "| Male   | 67 | 0 | 1 | Urban | 228.69 | 36.6 | formerly smoked | 1 |\n",
       "| Male   | 80 | 0 | 1 | Rural | 105.92 | 32.5 | never smoked    | 1 |\n",
       "| Female | 49 | 0 | 0 | Urban | 171.23 | 34.4 | smokes          | 1 |\n",
       "| ⋮ | ⋮ | ⋮ | ⋮ | ⋮ | ⋮ | ⋮ | ⋮ | ⋮ |\n",
       "| Female | 35 | 0 | 0 | Rural |  82.99 | 30.6 | never smoked    | 0 |\n",
       "| Male   | 51 | 0 | 0 | Rural | 166.29 | 25.6 | formerly smoked | 0 |\n",
       "| Female | 44 | 0 | 0 | Urban |  85.28 | 26.2 | Unknown         | 0 |\n",
       "\n"
      ],
      "text/plain": [
       "     gender age hypertension heart_disease residence_type avg_glucose_level\n",
       "1    Male   67  0            1             Urban          228.69           \n",
       "2    Male   80  0            1             Rural          105.92           \n",
       "3    Female 49  0            0             Urban          171.23           \n",
       "⋮    ⋮      ⋮   ⋮            ⋮             ⋮              ⋮                \n",
       "4828 Female 35  0            0             Rural           82.99           \n",
       "4829 Male   51  0            0             Rural          166.29           \n",
       "4830 Female 44  0            0             Urban           85.28           \n",
       "     bmi  smoking_status  stroke\n",
       "1    36.6 formerly smoked 1     \n",
       "2    32.5 never smoked    1     \n",
       "3    34.4 smokes          1     \n",
       "⋮    ⋮    ⋮               ⋮     \n",
       "4828 30.6 never smoked    0     \n",
       "4829 25.6 formerly smoked 0     \n",
       "4830 26.2 Unknown         0     "
      ]
     },
     "metadata": {},
     "output_type": "display_data"
    }
   ],
   "source": [
    "url <- \"https://raw.githubusercontent.com/romansinkus/DS_Group_Project/main/healthcare-dataset-stroke-data.csv\"\n",
    "stroke_data <- read_csv(url)\n",
    "tidy_stroke_data <- stroke_data %>% \n",
    "    select(-id, -ever_married, -work_type) %>% \n",
    "    mutate(stroke = as_factor(stroke)) %>%\n",
    "    mutate(bmi = as.numeric(bmi)) %>% \n",
    "    mutate(heart_disease = as_factor(heart_disease)) %>%  \n",
    "    mutate(Residence_type = as_factor(Residence_type)) %>% \n",
    "    rename(residence_type = Residence_type) %>% \n",
    "    filter(bmi > 10 & bmi < 50)\n",
    "tidy_stroke_data"
   ]
  }
 ],
 "metadata": {
  "kernelspec": {
   "display_name": "R",
   "language": "R",
   "name": "ir"
  },
  "language_info": {
   "codemirror_mode": "r",
   "file_extension": ".r",
   "mimetype": "text/x-r-source",
   "name": "R",
   "pygments_lexer": "r",
   "version": "4.0.0"
  }
 },
 "nbformat": 4,
 "nbformat_minor": 4
}
