{
 "cells": [
  {
   "cell_type": "markdown",
   "metadata": {},
   "source": [
    "# Stroke Prediction Classification\n"
   ]
  },
  {
   "cell_type": "markdown",
   "metadata": {},
   "source": [
    "### **Introduction:**\n",
    "\n",
    "The 5th highest cause of death and the leading cause of disability in the United States is due in part to strokes (Cerebrovascular Accidents). Strokes are the result of an insufficient supply of oxygen and nutrients to the brain due to a blood vessel bursting. Subsequently, brain cells die, which can often cause right-sided weakness/paralysis, and sensory impairment.\n",
    "\n",
    "**Research Question**:\n",
    "Based on multiple numerical clinical features, is someone likely to experience a stroke (or have they already experienced one)?\n",
    "\n",
    "This 12-column dataset pertaining to Medical Stroke Data was acquired from kaggle.com. It contains factors that may affect someone’s likelihood of experiencing a stroke, a record of whether or not the patient experienced a stroke, and identifying information."
   ]
  },
  {
   "cell_type": "code",
   "execution_count": 6,
   "metadata": {},
   "outputs": [
    {
     "name": "stderr",
     "output_type": "stream",
     "text": [
      "Warning message:\n",
      "“package ‘tidymodels’ was built under R version 4.0.2”\n"
     ]
    },
    {
     "ename": "ERROR",
     "evalue": "Error: package or namespace load failed for ‘tidymodels’ in loadNamespace(j <- i[[1L]], c(lib.loc, .libPaths()), versionCheck = vI[[j]]):\n there is no package called ‘recipes’\n",
     "output_type": "error",
     "traceback": [
      "Error: package or namespace load failed for ‘tidymodels’ in loadNamespace(j <- i[[1L]], c(lib.loc, .libPaths()), versionCheck = vI[[j]]):\n there is no package called ‘recipes’\nTraceback:\n",
      "1. library(tidymodels)",
      "2. tryCatch({\n .     attr(package, \"LibPath\") <- which.lib.loc\n .     ns <- loadNamespace(package, lib.loc)\n .     env <- attachNamespace(ns, pos = pos, deps, exclude, include.only)\n . }, error = function(e) {\n .     P <- if (!is.null(cc <- conditionCall(e))) \n .         paste(\" in\", deparse(cc)[1L])\n .     else \"\"\n .     msg <- gettextf(\"package or namespace load failed for %s%s:\\n %s\", \n .         sQuote(package), P, conditionMessage(e))\n .     if (logical.return) \n .         message(paste(\"Error:\", msg), domain = NA)\n .     else stop(msg, call. = FALSE, domain = NA)\n . })",
      "3. tryCatchList(expr, classes, parentenv, handlers)",
      "4. tryCatchOne(expr, names, parentenv, handlers[[1L]])",
      "5. value[[3L]](cond)",
      "6. stop(msg, call. = FALSE, domain = NA)"
     ]
    }
   ],
   "source": [
    "library(repr)\n",
    "library(tidyverse)\n",
    "library(tidymodels)\n",
    "library(RColorBrewer)\n",
    "library(ggplot2)\n",
    "options(repr.matrix.max.rows = 6)\n",
    "\n",
    "set.seed(1234)"
   ]
  },
  {
   "cell_type": "markdown",
   "metadata": {},
   "source": [
    "### **Preliminary Exploratory Data Analysis:**"
   ]
  },
  {
   "cell_type": "markdown",
   "metadata": {},
   "source": [
    "Although not all values are used, we must ensure that we properly tidy the data into a usable format. Tidy data entails:\n",
    "* Each row has a single observation.\n",
    "* Each column has a single variable.\n",
    "* Each value is in a single cell.\n",
    "\n",
    "The data includes all these components except for the fact that there are N/A values in the bmi column of the dataset. However, the missing values must be counted later on once the data is split into the training set. Consequently, the missing vales will remain in the dataset until after the missing values are counted.\n",
    "\n",
    "Changing each variable to its correct type can be beneficial (even if it is not used), since it will help with usability later on if needed. This can be done before the data is split into the training and testing set. Patient ID can be de-selected since identifying information is not relevant to the project."
   ]
  },
  {
   "cell_type": "code",
   "execution_count": 7,
   "metadata": {},
   "outputs": [
    {
     "name": "stderr",
     "output_type": "stream",
     "text": [
      "Parsed with column specification:\n",
      "cols(\n",
      "  id = \u001b[32mcol_double()\u001b[39m,\n",
      "  gender = \u001b[31mcol_character()\u001b[39m,\n",
      "  age = \u001b[32mcol_double()\u001b[39m,\n",
      "  hypertension = \u001b[32mcol_double()\u001b[39m,\n",
      "  heart_disease = \u001b[32mcol_double()\u001b[39m,\n",
      "  ever_married = \u001b[31mcol_character()\u001b[39m,\n",
      "  work_type = \u001b[31mcol_character()\u001b[39m,\n",
      "  Residence_type = \u001b[31mcol_character()\u001b[39m,\n",
      "  avg_glucose_level = \u001b[32mcol_double()\u001b[39m,\n",
      "  bmi = \u001b[31mcol_character()\u001b[39m,\n",
      "  smoking_status = \u001b[31mcol_character()\u001b[39m,\n",
      "  stroke = \u001b[32mcol_double()\u001b[39m\n",
      ")\n",
      "\n",
      "Warning message:\n",
      "“Problem with `mutate()` input `bmi`.\n",
      "\u001b[34mℹ\u001b[39m NAs introduced by coercion\n",
      "\u001b[34mℹ\u001b[39m Input `bmi` is `as.numeric(bmi)`.”\n",
      "Warning message in mask$eval_all_mutate(dots[[i]]):\n",
      "“NAs introduced by coercion”\n"
     ]
    },
    {
     "data": {
      "text/html": [
       "<table>\n",
       "<caption>A tibble: 5110 × 11</caption>\n",
       "<thead>\n",
       "\t<tr><th scope=col>gender</th><th scope=col>age</th><th scope=col>hypertension</th><th scope=col>heart_disease</th><th scope=col>ever_married</th><th scope=col>work_type</th><th scope=col>residence_type</th><th scope=col>avg_glucose_level</th><th scope=col>bmi</th><th scope=col>smoking_status</th><th scope=col>stroke</th></tr>\n",
       "\t<tr><th scope=col>&lt;fct&gt;</th><th scope=col>&lt;dbl&gt;</th><th scope=col>&lt;fct&gt;</th><th scope=col>&lt;fct&gt;</th><th scope=col>&lt;fct&gt;</th><th scope=col>&lt;fct&gt;</th><th scope=col>&lt;fct&gt;</th><th scope=col>&lt;dbl&gt;</th><th scope=col>&lt;dbl&gt;</th><th scope=col>&lt;fct&gt;</th><th scope=col>&lt;fct&gt;</th></tr>\n",
       "</thead>\n",
       "<tbody>\n",
       "\t<tr><td>Male  </td><td>67</td><td>0</td><td>1</td><td>Yes</td><td>Private      </td><td>Urban</td><td>228.69</td><td>36.6</td><td>formerly smoked</td><td>1</td></tr>\n",
       "\t<tr><td>Female</td><td>61</td><td>0</td><td>0</td><td>Yes</td><td>Self-employed</td><td>Rural</td><td>202.21</td><td>  NA</td><td>never smoked   </td><td>1</td></tr>\n",
       "\t<tr><td>Male  </td><td>80</td><td>0</td><td>1</td><td>Yes</td><td>Private      </td><td>Rural</td><td>105.92</td><td>32.5</td><td>never smoked   </td><td>1</td></tr>\n",
       "\t<tr><td>Female</td><td>49</td><td>0</td><td>0</td><td>Yes</td><td>Private      </td><td>Urban</td><td>171.23</td><td>34.4</td><td>smokes         </td><td>1</td></tr>\n",
       "\t<tr><td>Female</td><td>79</td><td>1</td><td>0</td><td>Yes</td><td>Self-employed</td><td>Rural</td><td>174.12</td><td>24.0</td><td>never smoked   </td><td>1</td></tr>\n",
       "\t<tr><td>Male  </td><td>81</td><td>0</td><td>0</td><td>Yes</td><td>Private      </td><td>Urban</td><td>186.21</td><td>29.0</td><td>formerly smoked</td><td>1</td></tr>\n",
       "\t<tr><td>Male  </td><td>74</td><td>1</td><td>1</td><td>Yes</td><td>Private      </td><td>Rural</td><td> 70.09</td><td>27.4</td><td>never smoked   </td><td>1</td></tr>\n",
       "\t<tr><td>Female</td><td>69</td><td>0</td><td>0</td><td>No </td><td>Private      </td><td>Urban</td><td> 94.39</td><td>22.8</td><td>never smoked   </td><td>1</td></tr>\n",
       "\t<tr><td>Female</td><td>59</td><td>0</td><td>0</td><td>Yes</td><td>Private      </td><td>Rural</td><td> 76.15</td><td>  NA</td><td>Unknown        </td><td>1</td></tr>\n",
       "\t<tr><td>Female</td><td>78</td><td>0</td><td>0</td><td>Yes</td><td>Private      </td><td>Urban</td><td> 58.57</td><td>24.2</td><td>Unknown        </td><td>1</td></tr>\n",
       "\t<tr><td>Female</td><td>81</td><td>1</td><td>0</td><td>Yes</td><td>Private      </td><td>Rural</td><td> 80.43</td><td>29.7</td><td>never smoked   </td><td>1</td></tr>\n",
       "\t<tr><td>Female</td><td>61</td><td>0</td><td>1</td><td>Yes</td><td>Govt_job     </td><td>Rural</td><td>120.46</td><td>36.8</td><td>smokes         </td><td>1</td></tr>\n",
       "\t<tr><td>Female</td><td>54</td><td>0</td><td>0</td><td>Yes</td><td>Private      </td><td>Urban</td><td>104.51</td><td>27.3</td><td>smokes         </td><td>1</td></tr>\n",
       "\t<tr><td>Male  </td><td>78</td><td>0</td><td>1</td><td>Yes</td><td>Private      </td><td>Urban</td><td>219.84</td><td>  NA</td><td>Unknown        </td><td>1</td></tr>\n",
       "\t<tr><td>Female</td><td>79</td><td>0</td><td>1</td><td>Yes</td><td>Private      </td><td>Urban</td><td>214.09</td><td>28.2</td><td>never smoked   </td><td>1</td></tr>\n",
       "\t<tr><td>Female</td><td>50</td><td>1</td><td>0</td><td>Yes</td><td>Self-employed</td><td>Rural</td><td>167.41</td><td>30.9</td><td>never smoked   </td><td>1</td></tr>\n",
       "\t<tr><td>Male  </td><td>64</td><td>0</td><td>1</td><td>Yes</td><td>Private      </td><td>Urban</td><td>191.61</td><td>37.5</td><td>smokes         </td><td>1</td></tr>\n",
       "\t<tr><td>Male  </td><td>75</td><td>1</td><td>0</td><td>Yes</td><td>Private      </td><td>Urban</td><td>221.29</td><td>25.8</td><td>smokes         </td><td>1</td></tr>\n",
       "\t<tr><td>Female</td><td>60</td><td>0</td><td>0</td><td>No </td><td>Private      </td><td>Urban</td><td> 89.22</td><td>37.8</td><td>never smoked   </td><td>1</td></tr>\n",
       "\t<tr><td>Male  </td><td>57</td><td>0</td><td>1</td><td>No </td><td>Govt_job     </td><td>Urban</td><td>217.08</td><td>  NA</td><td>Unknown        </td><td>1</td></tr>\n",
       "\t<tr><td>Female</td><td>71</td><td>0</td><td>0</td><td>Yes</td><td>Govt_job     </td><td>Rural</td><td>193.94</td><td>22.4</td><td>smokes         </td><td>1</td></tr>\n",
       "\t<tr><td>Female</td><td>52</td><td>1</td><td>0</td><td>Yes</td><td>Self-employed</td><td>Urban</td><td>233.29</td><td>48.9</td><td>never smoked   </td><td>1</td></tr>\n",
       "\t<tr><td>Female</td><td>79</td><td>0</td><td>0</td><td>Yes</td><td>Self-employed</td><td>Urban</td><td>228.70</td><td>26.6</td><td>never smoked   </td><td>1</td></tr>\n",
       "\t<tr><td>Male  </td><td>82</td><td>0</td><td>1</td><td>Yes</td><td>Private      </td><td>Rural</td><td>208.30</td><td>32.5</td><td>Unknown        </td><td>1</td></tr>\n",
       "\t<tr><td>Male  </td><td>71</td><td>0</td><td>0</td><td>Yes</td><td>Private      </td><td>Urban</td><td>102.87</td><td>27.2</td><td>formerly smoked</td><td>1</td></tr>\n",
       "\t<tr><td>Male  </td><td>80</td><td>0</td><td>0</td><td>Yes</td><td>Self-employed</td><td>Rural</td><td>104.12</td><td>23.5</td><td>never smoked   </td><td>1</td></tr>\n",
       "\t<tr><td>Female</td><td>65</td><td>0</td><td>0</td><td>Yes</td><td>Private      </td><td>Rural</td><td>100.98</td><td>28.2</td><td>formerly smoked</td><td>1</td></tr>\n",
       "\t<tr><td>Male  </td><td>58</td><td>0</td><td>0</td><td>Yes</td><td>Private      </td><td>Rural</td><td>189.84</td><td>  NA</td><td>Unknown        </td><td>1</td></tr>\n",
       "\t<tr><td>Male  </td><td>69</td><td>0</td><td>1</td><td>Yes</td><td>Self-employed</td><td>Urban</td><td>195.23</td><td>28.3</td><td>smokes         </td><td>1</td></tr>\n",
       "\t<tr><td>Male  </td><td>59</td><td>0</td><td>0</td><td>Yes</td><td>Private      </td><td>Rural</td><td>211.78</td><td>  NA</td><td>formerly smoked</td><td>1</td></tr>\n",
       "\t<tr><td>⋮</td><td>⋮</td><td>⋮</td><td>⋮</td><td>⋮</td><td>⋮</td><td>⋮</td><td>⋮</td><td>⋮</td><td>⋮</td><td>⋮</td></tr>\n",
       "\t<tr><td>Female</td><td>29.00</td><td>0</td><td>0</td><td>Yes</td><td>Self-employed</td><td>Urban</td><td> 90.52</td><td>28.0</td><td>never smoked   </td><td>0</td></tr>\n",
       "\t<tr><td>Male  </td><td>55.00</td><td>0</td><td>0</td><td>Yes</td><td>Govt_job     </td><td>Rural</td><td>108.35</td><td>40.8</td><td>formerly smoked</td><td>0</td></tr>\n",
       "\t<tr><td>Female</td><td>44.00</td><td>0</td><td>0</td><td>Yes</td><td>Private      </td><td>Rural</td><td> 72.03</td><td>37.5</td><td>smokes         </td><td>0</td></tr>\n",
       "\t<tr><td>Female</td><td>19.00</td><td>0</td><td>0</td><td>No </td><td>Private      </td><td>Urban</td><td> 90.57</td><td>24.2</td><td>Unknown        </td><td>0</td></tr>\n",
       "\t<tr><td>Male  </td><td>67.00</td><td>0</td><td>0</td><td>Yes</td><td>Private      </td><td>Rural</td><td> 97.04</td><td>26.9</td><td>smokes         </td><td>0</td></tr>\n",
       "\t<tr><td>Female</td><td>72.00</td><td>0</td><td>0</td><td>Yes</td><td>Private      </td><td>Urban</td><td> 83.89</td><td>33.1</td><td>formerly smoked</td><td>0</td></tr>\n",
       "\t<tr><td>Female</td><td>51.00</td><td>0</td><td>0</td><td>Yes</td><td>Private      </td><td>Urban</td><td>152.56</td><td>21.8</td><td>Unknown        </td><td>0</td></tr>\n",
       "\t<tr><td>Female</td><td>63.00</td><td>0</td><td>0</td><td>Yes</td><td>Self-employed</td><td>Rural</td><td> 75.93</td><td>34.7</td><td>formerly smoked</td><td>0</td></tr>\n",
       "\t<tr><td>Female</td><td>64.00</td><td>1</td><td>0</td><td>Yes</td><td>Self-employed</td><td>Urban</td><td> 76.89</td><td>30.2</td><td>Unknown        </td><td>0</td></tr>\n",
       "\t<tr><td>Female</td><td> 0.72</td><td>0</td><td>0</td><td>No </td><td>children     </td><td>Rural</td><td> 62.13</td><td>16.8</td><td>Unknown        </td><td>0</td></tr>\n",
       "\t<tr><td>Male  </td><td>26.00</td><td>0</td><td>0</td><td>No </td><td>Govt_job     </td><td>Rural</td><td>100.85</td><td>21.0</td><td>smokes         </td><td>0</td></tr>\n",
       "\t<tr><td>Male  </td><td>59.00</td><td>1</td><td>0</td><td>Yes</td><td>Private      </td><td>Rural</td><td> 95.05</td><td>30.9</td><td>never smoked   </td><td>0</td></tr>\n",
       "\t<tr><td>Male  </td><td>76.00</td><td>0</td><td>0</td><td>Yes</td><td>Govt_job     </td><td>Urban</td><td> 82.35</td><td>38.9</td><td>never smoked   </td><td>0</td></tr>\n",
       "\t<tr><td>Female</td><td>45.00</td><td>1</td><td>0</td><td>Yes</td><td>Govt_job     </td><td>Rural</td><td> 95.02</td><td>  NA</td><td>smokes         </td><td>0</td></tr>\n",
       "\t<tr><td>Male  </td><td>13.00</td><td>0</td><td>0</td><td>No </td><td>children     </td><td>Urban</td><td> 82.38</td><td>24.3</td><td>Unknown        </td><td>0</td></tr>\n",
       "\t<tr><td>Male  </td><td> 1.08</td><td>0</td><td>0</td><td>No </td><td>children     </td><td>Rural</td><td> 79.15</td><td>17.4</td><td>Unknown        </td><td>0</td></tr>\n",
       "\t<tr><td>Male  </td><td>57.00</td><td>0</td><td>0</td><td>Yes</td><td>Govt_job     </td><td>Rural</td><td> 76.62</td><td>28.2</td><td>never smoked   </td><td>0</td></tr>\n",
       "\t<tr><td>Male  </td><td>68.00</td><td>0</td><td>0</td><td>Yes</td><td>Self-employed</td><td>Urban</td><td> 91.68</td><td>40.8</td><td>Unknown        </td><td>0</td></tr>\n",
       "\t<tr><td>Male  </td><td> 9.00</td><td>0</td><td>0</td><td>No </td><td>children     </td><td>Urban</td><td> 71.88</td><td>17.5</td><td>Unknown        </td><td>0</td></tr>\n",
       "\t<tr><td>Male  </td><td>40.00</td><td>0</td><td>0</td><td>Yes</td><td>Private      </td><td>Rural</td><td> 83.94</td><td>  NA</td><td>smokes         </td><td>0</td></tr>\n",
       "\t<tr><td>Male  </td><td>82.00</td><td>1</td><td>0</td><td>Yes</td><td>Self-employed</td><td>Rural</td><td> 71.97</td><td>28.3</td><td>never smoked   </td><td>0</td></tr>\n",
       "\t<tr><td>Female</td><td>45.00</td><td>0</td><td>0</td><td>Yes</td><td>Private      </td><td>Urban</td><td> 97.95</td><td>24.5</td><td>Unknown        </td><td>0</td></tr>\n",
       "\t<tr><td>Female</td><td>57.00</td><td>0</td><td>0</td><td>Yes</td><td>Private      </td><td>Rural</td><td> 77.93</td><td>21.7</td><td>never smoked   </td><td>0</td></tr>\n",
       "\t<tr><td>Female</td><td>18.00</td><td>0</td><td>0</td><td>No </td><td>Private      </td><td>Urban</td><td> 82.85</td><td>46.9</td><td>Unknown        </td><td>0</td></tr>\n",
       "\t<tr><td>Female</td><td>13.00</td><td>0</td><td>0</td><td>No </td><td>children     </td><td>Rural</td><td>103.08</td><td>18.6</td><td>Unknown        </td><td>0</td></tr>\n",
       "\t<tr><td>Female</td><td>80.00</td><td>1</td><td>0</td><td>Yes</td><td>Private      </td><td>Urban</td><td> 83.75</td><td>  NA</td><td>never smoked   </td><td>0</td></tr>\n",
       "\t<tr><td>Female</td><td>81.00</td><td>0</td><td>0</td><td>Yes</td><td>Self-employed</td><td>Urban</td><td>125.20</td><td>40.0</td><td>never smoked   </td><td>0</td></tr>\n",
       "\t<tr><td>Female</td><td>35.00</td><td>0</td><td>0</td><td>Yes</td><td>Self-employed</td><td>Rural</td><td> 82.99</td><td>30.6</td><td>never smoked   </td><td>0</td></tr>\n",
       "\t<tr><td>Male  </td><td>51.00</td><td>0</td><td>0</td><td>Yes</td><td>Private      </td><td>Rural</td><td>166.29</td><td>25.6</td><td>formerly smoked</td><td>0</td></tr>\n",
       "\t<tr><td>Female</td><td>44.00</td><td>0</td><td>0</td><td>Yes</td><td>Govt_job     </td><td>Urban</td><td> 85.28</td><td>26.2</td><td>Unknown        </td><td>0</td></tr>\n",
       "</tbody>\n",
       "</table>\n"
      ],
      "text/latex": [
       "A tibble: 5110 × 11\n",
       "\\begin{tabular}{lllllllllll}\n",
       " gender & age & hypertension & heart\\_disease & ever\\_married & work\\_type & residence\\_type & avg\\_glucose\\_level & bmi & smoking\\_status & stroke\\\\\n",
       " <fct> & <dbl> & <fct> & <fct> & <fct> & <fct> & <fct> & <dbl> & <dbl> & <fct> & <fct>\\\\\n",
       "\\hline\n",
       "\t Male   & 67 & 0 & 1 & Yes & Private       & Urban & 228.69 & 36.6 & formerly smoked & 1\\\\\n",
       "\t Female & 61 & 0 & 0 & Yes & Self-employed & Rural & 202.21 &   NA & never smoked    & 1\\\\\n",
       "\t Male   & 80 & 0 & 1 & Yes & Private       & Rural & 105.92 & 32.5 & never smoked    & 1\\\\\n",
       "\t Female & 49 & 0 & 0 & Yes & Private       & Urban & 171.23 & 34.4 & smokes          & 1\\\\\n",
       "\t Female & 79 & 1 & 0 & Yes & Self-employed & Rural & 174.12 & 24.0 & never smoked    & 1\\\\\n",
       "\t Male   & 81 & 0 & 0 & Yes & Private       & Urban & 186.21 & 29.0 & formerly smoked & 1\\\\\n",
       "\t Male   & 74 & 1 & 1 & Yes & Private       & Rural &  70.09 & 27.4 & never smoked    & 1\\\\\n",
       "\t Female & 69 & 0 & 0 & No  & Private       & Urban &  94.39 & 22.8 & never smoked    & 1\\\\\n",
       "\t Female & 59 & 0 & 0 & Yes & Private       & Rural &  76.15 &   NA & Unknown         & 1\\\\\n",
       "\t Female & 78 & 0 & 0 & Yes & Private       & Urban &  58.57 & 24.2 & Unknown         & 1\\\\\n",
       "\t Female & 81 & 1 & 0 & Yes & Private       & Rural &  80.43 & 29.7 & never smoked    & 1\\\\\n",
       "\t Female & 61 & 0 & 1 & Yes & Govt\\_job      & Rural & 120.46 & 36.8 & smokes          & 1\\\\\n",
       "\t Female & 54 & 0 & 0 & Yes & Private       & Urban & 104.51 & 27.3 & smokes          & 1\\\\\n",
       "\t Male   & 78 & 0 & 1 & Yes & Private       & Urban & 219.84 &   NA & Unknown         & 1\\\\\n",
       "\t Female & 79 & 0 & 1 & Yes & Private       & Urban & 214.09 & 28.2 & never smoked    & 1\\\\\n",
       "\t Female & 50 & 1 & 0 & Yes & Self-employed & Rural & 167.41 & 30.9 & never smoked    & 1\\\\\n",
       "\t Male   & 64 & 0 & 1 & Yes & Private       & Urban & 191.61 & 37.5 & smokes          & 1\\\\\n",
       "\t Male   & 75 & 1 & 0 & Yes & Private       & Urban & 221.29 & 25.8 & smokes          & 1\\\\\n",
       "\t Female & 60 & 0 & 0 & No  & Private       & Urban &  89.22 & 37.8 & never smoked    & 1\\\\\n",
       "\t Male   & 57 & 0 & 1 & No  & Govt\\_job      & Urban & 217.08 &   NA & Unknown         & 1\\\\\n",
       "\t Female & 71 & 0 & 0 & Yes & Govt\\_job      & Rural & 193.94 & 22.4 & smokes          & 1\\\\\n",
       "\t Female & 52 & 1 & 0 & Yes & Self-employed & Urban & 233.29 & 48.9 & never smoked    & 1\\\\\n",
       "\t Female & 79 & 0 & 0 & Yes & Self-employed & Urban & 228.70 & 26.6 & never smoked    & 1\\\\\n",
       "\t Male   & 82 & 0 & 1 & Yes & Private       & Rural & 208.30 & 32.5 & Unknown         & 1\\\\\n",
       "\t Male   & 71 & 0 & 0 & Yes & Private       & Urban & 102.87 & 27.2 & formerly smoked & 1\\\\\n",
       "\t Male   & 80 & 0 & 0 & Yes & Self-employed & Rural & 104.12 & 23.5 & never smoked    & 1\\\\\n",
       "\t Female & 65 & 0 & 0 & Yes & Private       & Rural & 100.98 & 28.2 & formerly smoked & 1\\\\\n",
       "\t Male   & 58 & 0 & 0 & Yes & Private       & Rural & 189.84 &   NA & Unknown         & 1\\\\\n",
       "\t Male   & 69 & 0 & 1 & Yes & Self-employed & Urban & 195.23 & 28.3 & smokes          & 1\\\\\n",
       "\t Male   & 59 & 0 & 0 & Yes & Private       & Rural & 211.78 &   NA & formerly smoked & 1\\\\\n",
       "\t ⋮ & ⋮ & ⋮ & ⋮ & ⋮ & ⋮ & ⋮ & ⋮ & ⋮ & ⋮ & ⋮\\\\\n",
       "\t Female & 29.00 & 0 & 0 & Yes & Self-employed & Urban &  90.52 & 28.0 & never smoked    & 0\\\\\n",
       "\t Male   & 55.00 & 0 & 0 & Yes & Govt\\_job      & Rural & 108.35 & 40.8 & formerly smoked & 0\\\\\n",
       "\t Female & 44.00 & 0 & 0 & Yes & Private       & Rural &  72.03 & 37.5 & smokes          & 0\\\\\n",
       "\t Female & 19.00 & 0 & 0 & No  & Private       & Urban &  90.57 & 24.2 & Unknown         & 0\\\\\n",
       "\t Male   & 67.00 & 0 & 0 & Yes & Private       & Rural &  97.04 & 26.9 & smokes          & 0\\\\\n",
       "\t Female & 72.00 & 0 & 0 & Yes & Private       & Urban &  83.89 & 33.1 & formerly smoked & 0\\\\\n",
       "\t Female & 51.00 & 0 & 0 & Yes & Private       & Urban & 152.56 & 21.8 & Unknown         & 0\\\\\n",
       "\t Female & 63.00 & 0 & 0 & Yes & Self-employed & Rural &  75.93 & 34.7 & formerly smoked & 0\\\\\n",
       "\t Female & 64.00 & 1 & 0 & Yes & Self-employed & Urban &  76.89 & 30.2 & Unknown         & 0\\\\\n",
       "\t Female &  0.72 & 0 & 0 & No  & children      & Rural &  62.13 & 16.8 & Unknown         & 0\\\\\n",
       "\t Male   & 26.00 & 0 & 0 & No  & Govt\\_job      & Rural & 100.85 & 21.0 & smokes          & 0\\\\\n",
       "\t Male   & 59.00 & 1 & 0 & Yes & Private       & Rural &  95.05 & 30.9 & never smoked    & 0\\\\\n",
       "\t Male   & 76.00 & 0 & 0 & Yes & Govt\\_job      & Urban &  82.35 & 38.9 & never smoked    & 0\\\\\n",
       "\t Female & 45.00 & 1 & 0 & Yes & Govt\\_job      & Rural &  95.02 &   NA & smokes          & 0\\\\\n",
       "\t Male   & 13.00 & 0 & 0 & No  & children      & Urban &  82.38 & 24.3 & Unknown         & 0\\\\\n",
       "\t Male   &  1.08 & 0 & 0 & No  & children      & Rural &  79.15 & 17.4 & Unknown         & 0\\\\\n",
       "\t Male   & 57.00 & 0 & 0 & Yes & Govt\\_job      & Rural &  76.62 & 28.2 & never smoked    & 0\\\\\n",
       "\t Male   & 68.00 & 0 & 0 & Yes & Self-employed & Urban &  91.68 & 40.8 & Unknown         & 0\\\\\n",
       "\t Male   &  9.00 & 0 & 0 & No  & children      & Urban &  71.88 & 17.5 & Unknown         & 0\\\\\n",
       "\t Male   & 40.00 & 0 & 0 & Yes & Private       & Rural &  83.94 &   NA & smokes          & 0\\\\\n",
       "\t Male   & 82.00 & 1 & 0 & Yes & Self-employed & Rural &  71.97 & 28.3 & never smoked    & 0\\\\\n",
       "\t Female & 45.00 & 0 & 0 & Yes & Private       & Urban &  97.95 & 24.5 & Unknown         & 0\\\\\n",
       "\t Female & 57.00 & 0 & 0 & Yes & Private       & Rural &  77.93 & 21.7 & never smoked    & 0\\\\\n",
       "\t Female & 18.00 & 0 & 0 & No  & Private       & Urban &  82.85 & 46.9 & Unknown         & 0\\\\\n",
       "\t Female & 13.00 & 0 & 0 & No  & children      & Rural & 103.08 & 18.6 & Unknown         & 0\\\\\n",
       "\t Female & 80.00 & 1 & 0 & Yes & Private       & Urban &  83.75 &   NA & never smoked    & 0\\\\\n",
       "\t Female & 81.00 & 0 & 0 & Yes & Self-employed & Urban & 125.20 & 40.0 & never smoked    & 0\\\\\n",
       "\t Female & 35.00 & 0 & 0 & Yes & Self-employed & Rural &  82.99 & 30.6 & never smoked    & 0\\\\\n",
       "\t Male   & 51.00 & 0 & 0 & Yes & Private       & Rural & 166.29 & 25.6 & formerly smoked & 0\\\\\n",
       "\t Female & 44.00 & 0 & 0 & Yes & Govt\\_job      & Urban &  85.28 & 26.2 & Unknown         & 0\\\\\n",
       "\\end{tabular}\n"
      ],
      "text/markdown": [
       "\n",
       "A tibble: 5110 × 11\n",
       "\n",
       "| gender &lt;fct&gt; | age &lt;dbl&gt; | hypertension &lt;fct&gt; | heart_disease &lt;fct&gt; | ever_married &lt;fct&gt; | work_type &lt;fct&gt; | residence_type &lt;fct&gt; | avg_glucose_level &lt;dbl&gt; | bmi &lt;dbl&gt; | smoking_status &lt;fct&gt; | stroke &lt;fct&gt; |\n",
       "|---|---|---|---|---|---|---|---|---|---|---|\n",
       "| Male   | 67 | 0 | 1 | Yes | Private       | Urban | 228.69 | 36.6 | formerly smoked | 1 |\n",
       "| Female | 61 | 0 | 0 | Yes | Self-employed | Rural | 202.21 |   NA | never smoked    | 1 |\n",
       "| Male   | 80 | 0 | 1 | Yes | Private       | Rural | 105.92 | 32.5 | never smoked    | 1 |\n",
       "| Female | 49 | 0 | 0 | Yes | Private       | Urban | 171.23 | 34.4 | smokes          | 1 |\n",
       "| Female | 79 | 1 | 0 | Yes | Self-employed | Rural | 174.12 | 24.0 | never smoked    | 1 |\n",
       "| Male   | 81 | 0 | 0 | Yes | Private       | Urban | 186.21 | 29.0 | formerly smoked | 1 |\n",
       "| Male   | 74 | 1 | 1 | Yes | Private       | Rural |  70.09 | 27.4 | never smoked    | 1 |\n",
       "| Female | 69 | 0 | 0 | No  | Private       | Urban |  94.39 | 22.8 | never smoked    | 1 |\n",
       "| Female | 59 | 0 | 0 | Yes | Private       | Rural |  76.15 |   NA | Unknown         | 1 |\n",
       "| Female | 78 | 0 | 0 | Yes | Private       | Urban |  58.57 | 24.2 | Unknown         | 1 |\n",
       "| Female | 81 | 1 | 0 | Yes | Private       | Rural |  80.43 | 29.7 | never smoked    | 1 |\n",
       "| Female | 61 | 0 | 1 | Yes | Govt_job      | Rural | 120.46 | 36.8 | smokes          | 1 |\n",
       "| Female | 54 | 0 | 0 | Yes | Private       | Urban | 104.51 | 27.3 | smokes          | 1 |\n",
       "| Male   | 78 | 0 | 1 | Yes | Private       | Urban | 219.84 |   NA | Unknown         | 1 |\n",
       "| Female | 79 | 0 | 1 | Yes | Private       | Urban | 214.09 | 28.2 | never smoked    | 1 |\n",
       "| Female | 50 | 1 | 0 | Yes | Self-employed | Rural | 167.41 | 30.9 | never smoked    | 1 |\n",
       "| Male   | 64 | 0 | 1 | Yes | Private       | Urban | 191.61 | 37.5 | smokes          | 1 |\n",
       "| Male   | 75 | 1 | 0 | Yes | Private       | Urban | 221.29 | 25.8 | smokes          | 1 |\n",
       "| Female | 60 | 0 | 0 | No  | Private       | Urban |  89.22 | 37.8 | never smoked    | 1 |\n",
       "| Male   | 57 | 0 | 1 | No  | Govt_job      | Urban | 217.08 |   NA | Unknown         | 1 |\n",
       "| Female | 71 | 0 | 0 | Yes | Govt_job      | Rural | 193.94 | 22.4 | smokes          | 1 |\n",
       "| Female | 52 | 1 | 0 | Yes | Self-employed | Urban | 233.29 | 48.9 | never smoked    | 1 |\n",
       "| Female | 79 | 0 | 0 | Yes | Self-employed | Urban | 228.70 | 26.6 | never smoked    | 1 |\n",
       "| Male   | 82 | 0 | 1 | Yes | Private       | Rural | 208.30 | 32.5 | Unknown         | 1 |\n",
       "| Male   | 71 | 0 | 0 | Yes | Private       | Urban | 102.87 | 27.2 | formerly smoked | 1 |\n",
       "| Male   | 80 | 0 | 0 | Yes | Self-employed | Rural | 104.12 | 23.5 | never smoked    | 1 |\n",
       "| Female | 65 | 0 | 0 | Yes | Private       | Rural | 100.98 | 28.2 | formerly smoked | 1 |\n",
       "| Male   | 58 | 0 | 0 | Yes | Private       | Rural | 189.84 |   NA | Unknown         | 1 |\n",
       "| Male   | 69 | 0 | 1 | Yes | Self-employed | Urban | 195.23 | 28.3 | smokes          | 1 |\n",
       "| Male   | 59 | 0 | 0 | Yes | Private       | Rural | 211.78 |   NA | formerly smoked | 1 |\n",
       "| ⋮ | ⋮ | ⋮ | ⋮ | ⋮ | ⋮ | ⋮ | ⋮ | ⋮ | ⋮ | ⋮ |\n",
       "| Female | 29.00 | 0 | 0 | Yes | Self-employed | Urban |  90.52 | 28.0 | never smoked    | 0 |\n",
       "| Male   | 55.00 | 0 | 0 | Yes | Govt_job      | Rural | 108.35 | 40.8 | formerly smoked | 0 |\n",
       "| Female | 44.00 | 0 | 0 | Yes | Private       | Rural |  72.03 | 37.5 | smokes          | 0 |\n",
       "| Female | 19.00 | 0 | 0 | No  | Private       | Urban |  90.57 | 24.2 | Unknown         | 0 |\n",
       "| Male   | 67.00 | 0 | 0 | Yes | Private       | Rural |  97.04 | 26.9 | smokes          | 0 |\n",
       "| Female | 72.00 | 0 | 0 | Yes | Private       | Urban |  83.89 | 33.1 | formerly smoked | 0 |\n",
       "| Female | 51.00 | 0 | 0 | Yes | Private       | Urban | 152.56 | 21.8 | Unknown         | 0 |\n",
       "| Female | 63.00 | 0 | 0 | Yes | Self-employed | Rural |  75.93 | 34.7 | formerly smoked | 0 |\n",
       "| Female | 64.00 | 1 | 0 | Yes | Self-employed | Urban |  76.89 | 30.2 | Unknown         | 0 |\n",
       "| Female |  0.72 | 0 | 0 | No  | children      | Rural |  62.13 | 16.8 | Unknown         | 0 |\n",
       "| Male   | 26.00 | 0 | 0 | No  | Govt_job      | Rural | 100.85 | 21.0 | smokes          | 0 |\n",
       "| Male   | 59.00 | 1 | 0 | Yes | Private       | Rural |  95.05 | 30.9 | never smoked    | 0 |\n",
       "| Male   | 76.00 | 0 | 0 | Yes | Govt_job      | Urban |  82.35 | 38.9 | never smoked    | 0 |\n",
       "| Female | 45.00 | 1 | 0 | Yes | Govt_job      | Rural |  95.02 |   NA | smokes          | 0 |\n",
       "| Male   | 13.00 | 0 | 0 | No  | children      | Urban |  82.38 | 24.3 | Unknown         | 0 |\n",
       "| Male   |  1.08 | 0 | 0 | No  | children      | Rural |  79.15 | 17.4 | Unknown         | 0 |\n",
       "| Male   | 57.00 | 0 | 0 | Yes | Govt_job      | Rural |  76.62 | 28.2 | never smoked    | 0 |\n",
       "| Male   | 68.00 | 0 | 0 | Yes | Self-employed | Urban |  91.68 | 40.8 | Unknown         | 0 |\n",
       "| Male   |  9.00 | 0 | 0 | No  | children      | Urban |  71.88 | 17.5 | Unknown         | 0 |\n",
       "| Male   | 40.00 | 0 | 0 | Yes | Private       | Rural |  83.94 |   NA | smokes          | 0 |\n",
       "| Male   | 82.00 | 1 | 0 | Yes | Self-employed | Rural |  71.97 | 28.3 | never smoked    | 0 |\n",
       "| Female | 45.00 | 0 | 0 | Yes | Private       | Urban |  97.95 | 24.5 | Unknown         | 0 |\n",
       "| Female | 57.00 | 0 | 0 | Yes | Private       | Rural |  77.93 | 21.7 | never smoked    | 0 |\n",
       "| Female | 18.00 | 0 | 0 | No  | Private       | Urban |  82.85 | 46.9 | Unknown         | 0 |\n",
       "| Female | 13.00 | 0 | 0 | No  | children      | Rural | 103.08 | 18.6 | Unknown         | 0 |\n",
       "| Female | 80.00 | 1 | 0 | Yes | Private       | Urban |  83.75 |   NA | never smoked    | 0 |\n",
       "| Female | 81.00 | 0 | 0 | Yes | Self-employed | Urban | 125.20 | 40.0 | never smoked    | 0 |\n",
       "| Female | 35.00 | 0 | 0 | Yes | Self-employed | Rural |  82.99 | 30.6 | never smoked    | 0 |\n",
       "| Male   | 51.00 | 0 | 0 | Yes | Private       | Rural | 166.29 | 25.6 | formerly smoked | 0 |\n",
       "| Female | 44.00 | 0 | 0 | Yes | Govt_job      | Urban |  85.28 | 26.2 | Unknown         | 0 |\n",
       "\n"
      ],
      "text/plain": [
       "     gender age   hypertension heart_disease ever_married work_type    \n",
       "1    Male   67    0            1             Yes          Private      \n",
       "2    Female 61    0            0             Yes          Self-employed\n",
       "3    Male   80    0            1             Yes          Private      \n",
       "4    Female 49    0            0             Yes          Private      \n",
       "5    Female 79    1            0             Yes          Self-employed\n",
       "6    Male   81    0            0             Yes          Private      \n",
       "7    Male   74    1            1             Yes          Private      \n",
       "8    Female 69    0            0             No           Private      \n",
       "9    Female 59    0            0             Yes          Private      \n",
       "10   Female 78    0            0             Yes          Private      \n",
       "11   Female 81    1            0             Yes          Private      \n",
       "12   Female 61    0            1             Yes          Govt_job     \n",
       "13   Female 54    0            0             Yes          Private      \n",
       "14   Male   78    0            1             Yes          Private      \n",
       "15   Female 79    0            1             Yes          Private      \n",
       "16   Female 50    1            0             Yes          Self-employed\n",
       "17   Male   64    0            1             Yes          Private      \n",
       "18   Male   75    1            0             Yes          Private      \n",
       "19   Female 60    0            0             No           Private      \n",
       "20   Male   57    0            1             No           Govt_job     \n",
       "21   Female 71    0            0             Yes          Govt_job     \n",
       "22   Female 52    1            0             Yes          Self-employed\n",
       "23   Female 79    0            0             Yes          Self-employed\n",
       "24   Male   82    0            1             Yes          Private      \n",
       "25   Male   71    0            0             Yes          Private      \n",
       "26   Male   80    0            0             Yes          Self-employed\n",
       "27   Female 65    0            0             Yes          Private      \n",
       "28   Male   58    0            0             Yes          Private      \n",
       "29   Male   69    0            1             Yes          Self-employed\n",
       "30   Male   59    0            0             Yes          Private      \n",
       "⋮    ⋮      ⋮     ⋮            ⋮             ⋮            ⋮            \n",
       "5081 Female 29.00 0            0             Yes          Self-employed\n",
       "5082 Male   55.00 0            0             Yes          Govt_job     \n",
       "5083 Female 44.00 0            0             Yes          Private      \n",
       "5084 Female 19.00 0            0             No           Private      \n",
       "5085 Male   67.00 0            0             Yes          Private      \n",
       "5086 Female 72.00 0            0             Yes          Private      \n",
       "5087 Female 51.00 0            0             Yes          Private      \n",
       "5088 Female 63.00 0            0             Yes          Self-employed\n",
       "5089 Female 64.00 1            0             Yes          Self-employed\n",
       "5090 Female  0.72 0            0             No           children     \n",
       "5091 Male   26.00 0            0             No           Govt_job     \n",
       "5092 Male   59.00 1            0             Yes          Private      \n",
       "5093 Male   76.00 0            0             Yes          Govt_job     \n",
       "5094 Female 45.00 1            0             Yes          Govt_job     \n",
       "5095 Male   13.00 0            0             No           children     \n",
       "5096 Male    1.08 0            0             No           children     \n",
       "5097 Male   57.00 0            0             Yes          Govt_job     \n",
       "5098 Male   68.00 0            0             Yes          Self-employed\n",
       "5099 Male    9.00 0            0             No           children     \n",
       "5100 Male   40.00 0            0             Yes          Private      \n",
       "5101 Male   82.00 1            0             Yes          Self-employed\n",
       "5102 Female 45.00 0            0             Yes          Private      \n",
       "5103 Female 57.00 0            0             Yes          Private      \n",
       "5104 Female 18.00 0            0             No           Private      \n",
       "5105 Female 13.00 0            0             No           children     \n",
       "5106 Female 80.00 1            0             Yes          Private      \n",
       "5107 Female 81.00 0            0             Yes          Self-employed\n",
       "5108 Female 35.00 0            0             Yes          Self-employed\n",
       "5109 Male   51.00 0            0             Yes          Private      \n",
       "5110 Female 44.00 0            0             Yes          Govt_job     \n",
       "     residence_type avg_glucose_level bmi  smoking_status  stroke\n",
       "1    Urban          228.69            36.6 formerly smoked 1     \n",
       "2    Rural          202.21              NA never smoked    1     \n",
       "3    Rural          105.92            32.5 never smoked    1     \n",
       "4    Urban          171.23            34.4 smokes          1     \n",
       "5    Rural          174.12            24.0 never smoked    1     \n",
       "6    Urban          186.21            29.0 formerly smoked 1     \n",
       "7    Rural           70.09            27.4 never smoked    1     \n",
       "8    Urban           94.39            22.8 never smoked    1     \n",
       "9    Rural           76.15              NA Unknown         1     \n",
       "10   Urban           58.57            24.2 Unknown         1     \n",
       "11   Rural           80.43            29.7 never smoked    1     \n",
       "12   Rural          120.46            36.8 smokes          1     \n",
       "13   Urban          104.51            27.3 smokes          1     \n",
       "14   Urban          219.84              NA Unknown         1     \n",
       "15   Urban          214.09            28.2 never smoked    1     \n",
       "16   Rural          167.41            30.9 never smoked    1     \n",
       "17   Urban          191.61            37.5 smokes          1     \n",
       "18   Urban          221.29            25.8 smokes          1     \n",
       "19   Urban           89.22            37.8 never smoked    1     \n",
       "20   Urban          217.08              NA Unknown         1     \n",
       "21   Rural          193.94            22.4 smokes          1     \n",
       "22   Urban          233.29            48.9 never smoked    1     \n",
       "23   Urban          228.70            26.6 never smoked    1     \n",
       "24   Rural          208.30            32.5 Unknown         1     \n",
       "25   Urban          102.87            27.2 formerly smoked 1     \n",
       "26   Rural          104.12            23.5 never smoked    1     \n",
       "27   Rural          100.98            28.2 formerly smoked 1     \n",
       "28   Rural          189.84              NA Unknown         1     \n",
       "29   Urban          195.23            28.3 smokes          1     \n",
       "30   Rural          211.78              NA formerly smoked 1     \n",
       "⋮    ⋮              ⋮                 ⋮    ⋮               ⋮     \n",
       "5081 Urban           90.52            28.0 never smoked    0     \n",
       "5082 Rural          108.35            40.8 formerly smoked 0     \n",
       "5083 Rural           72.03            37.5 smokes          0     \n",
       "5084 Urban           90.57            24.2 Unknown         0     \n",
       "5085 Rural           97.04            26.9 smokes          0     \n",
       "5086 Urban           83.89            33.1 formerly smoked 0     \n",
       "5087 Urban          152.56            21.8 Unknown         0     \n",
       "5088 Rural           75.93            34.7 formerly smoked 0     \n",
       "5089 Urban           76.89            30.2 Unknown         0     \n",
       "5090 Rural           62.13            16.8 Unknown         0     \n",
       "5091 Rural          100.85            21.0 smokes          0     \n",
       "5092 Rural           95.05            30.9 never smoked    0     \n",
       "5093 Urban           82.35            38.9 never smoked    0     \n",
       "5094 Rural           95.02              NA smokes          0     \n",
       "5095 Urban           82.38            24.3 Unknown         0     \n",
       "5096 Rural           79.15            17.4 Unknown         0     \n",
       "5097 Rural           76.62            28.2 never smoked    0     \n",
       "5098 Urban           91.68            40.8 Unknown         0     \n",
       "5099 Urban           71.88            17.5 Unknown         0     \n",
       "5100 Rural           83.94              NA smokes          0     \n",
       "5101 Rural           71.97            28.3 never smoked    0     \n",
       "5102 Urban           97.95            24.5 Unknown         0     \n",
       "5103 Rural           77.93            21.7 never smoked    0     \n",
       "5104 Urban           82.85            46.9 Unknown         0     \n",
       "5105 Rural          103.08            18.6 Unknown         0     \n",
       "5106 Urban           83.75              NA never smoked    0     \n",
       "5107 Urban          125.20            40.0 never smoked    0     \n",
       "5108 Rural           82.99            30.6 never smoked    0     \n",
       "5109 Rural          166.29            25.6 formerly smoked 0     \n",
       "5110 Urban           85.28            26.2 Unknown         0     "
      ]
     },
     "metadata": {},
     "output_type": "display_data"
    }
   ],
   "source": [
    "url <- \"https://raw.githubusercontent.com/romansinkus/DS_Group_Project/main/healthcare-dataset-stroke-data.csv\"\n",
    "untidy_stroke_data <- read_csv(url)\n",
    "stroke_data <- untidy_stroke_data %>%\n",
    "    select(-id) %>% \n",
    "    mutate(bmi = as.numeric(bmi)) %>% \n",
    "    rename(residence_type = Residence_type) %>% \n",
    "    mutate(across(c(gender, hypertension:residence_type, smoking_status:stroke), as_factor))\n",
    "\n",
    "stroke_data"
   ]
  },
  {
   "cell_type": "markdown",
   "metadata": {},
   "source": [
    "Now that the data has been optimized for usability (but not completely tidied), it can be split into testing and training data (75% will be allocated as training data)."
   ]
  },
  {
   "cell_type": "code",
   "execution_count": 8,
   "metadata": {},
   "outputs": [
    {
     "ename": "ERROR",
     "evalue": "Error in initial_split(stroke_data, prop = 0.75, strata = stroke): could not find function \"initial_split\"\n",
     "output_type": "error",
     "traceback": [
      "Error in initial_split(stroke_data, prop = 0.75, strata = stroke): could not find function \"initial_split\"\nTraceback:\n"
     ]
    }
   ],
   "source": [
    "stroke_split <- initial_split(stroke_data, prop = 0.75, strata = stroke)\n",
    "initial_stroke_train <- training(stroke_split)\n",
    "initial_stroke_test <- testing(stroke_split)"
   ]
  },
  {
   "cell_type": "markdown",
   "metadata": {},
   "source": [
    "Below is a table summarizing the three different numerical variables that are possible predictors for the model. The mean values have been calculated for each."
   ]
  },
  {
   "cell_type": "code",
   "execution_count": 9,
   "metadata": {},
   "outputs": [
    {
     "ename": "ERROR",
     "evalue": "Error in eval(lhs, parent, parent): object 'initial_stroke_train' not found\n",
     "output_type": "error",
     "traceback": [
      "Error in eval(lhs, parent, parent): object 'initial_stroke_train' not found\nTraceback:\n",
      "1. initial_stroke_train %>% summarize(age_avg = mean(age, na.rm = TRUE), \n .     avg_glucose_level_avg = mean(avg_glucose_level, na.rm = TRUE), \n .     bmi_avg = mean(bmi, na.rm = TRUE))",
      "2. eval(lhs, parent, parent)",
      "3. eval(lhs, parent, parent)"
     ]
    }
   ],
   "source": [
    "avg_values <- initial_stroke_train %>% \n",
    "    summarize(age_avg = mean(age, na.rm = TRUE),\n",
    "            avg_glucose_level_avg = mean(avg_glucose_level, na.rm = TRUE),\n",
    "            bmi_avg = mean(bmi, na.rm = TRUE))\n",
    "avg_values"
   ]
  },
  {
   "cell_type": "markdown",
   "metadata": {},
   "source": [
    "Based on the summarization of the training data, most patients indicated they were middle-aged and had healthy average glucose levels (healthy range: 90-110 mg/dL). The average patient observed exhibited a body mass index indicating they were in the \"overweight\" category (25.0—29.9)."
   ]
  },
  {
   "cell_type": "markdown",
   "metadata": {},
   "source": [
    "Kaggle (the website where the dataset was collected) indicated missing values for the bmi column of the dataset. Shown below is the number of rows that include missing values."
   ]
  },
  {
   "cell_type": "code",
   "execution_count": 10,
   "metadata": {},
   "outputs": [
    {
     "ename": "ERROR",
     "evalue": "Error in eval(lhs, parent, parent): object 'initial_stroke_train' not found\n",
     "output_type": "error",
     "traceback": [
      "Error in eval(lhs, parent, parent): object 'initial_stroke_train' not found\nTraceback:\n",
      "1. initial_stroke_train %>% select(bmi) %>% count(is.na(bmi))",
      "2. eval(lhs, parent, parent)",
      "3. eval(lhs, parent, parent)"
     ]
    }
   ],
   "source": [
    "missing_bmi <- initial_stroke_train %>%\n",
    "    select(bmi) %>%\n",
    "    count(is.na(bmi))\n",
    "missing_bmi"
   ]
  },
  {
   "cell_type": "markdown",
   "metadata": {},
   "source": [
    "The stroke variable is the target variable for this model. Below is a table containing the number of patients who indicated they had experienced a stroke (1 = yes, 0 = no)."
   ]
  },
  {
   "cell_type": "code",
   "execution_count": 11,
   "metadata": {},
   "outputs": [
    {
     "ename": "ERROR",
     "evalue": "Error in eval(lhs, parent, parent): object 'initial_stroke_train' not found\n",
     "output_type": "error",
     "traceback": [
      "Error in eval(lhs, parent, parent): object 'initial_stroke_train' not found\nTraceback:\n",
      "1. initial_stroke_train %>% group_by(stroke) %>% summarize(n = n())",
      "2. eval(lhs, parent, parent)",
      "3. eval(lhs, parent, parent)"
     ]
    }
   ],
   "source": [
    "categorical_values <- initial_stroke_train %>%\n",
    "    group_by(stroke) %>% \n",
    "    summarize(n = n())\n",
    "\n",
    "categorical_values"
   ]
  },
  {
   "cell_type": "markdown",
   "metadata": {},
   "source": [
    "Now that the missing values have been counted and displayed, they can be removed to make the data tidy (each value must be in a single cell)."
   ]
  },
  {
   "cell_type": "code",
   "execution_count": 12,
   "metadata": {},
   "outputs": [
    {
     "ename": "ERROR",
     "evalue": "Error in eval(lhs, parent, parent): object 'initial_stroke_train' not found\n",
     "output_type": "error",
     "traceback": [
      "Error in eval(lhs, parent, parent): object 'initial_stroke_train' not found\nTraceback:\n",
      "1. initial_stroke_train %>% filter(!is.na(bmi))",
      "2. eval(lhs, parent, parent)",
      "3. eval(lhs, parent, parent)"
     ]
    }
   ],
   "source": [
    "stroke_train <- initial_stroke_train %>% \n",
    "    filter(!is.na(bmi))\n",
    "\n",
    "stroke_test <- initial_stroke_test %>% \n",
    "    filter(!is.na(bmi))"
   ]
  },
  {
   "cell_type": "code",
   "execution_count": 13,
   "metadata": {},
   "outputs": [
    {
     "ename": "ERROR",
     "evalue": "Error in eval(lhs, parent, parent): object 'stroke_train' not found\n",
     "output_type": "error",
     "traceback": [
      "Error in eval(lhs, parent, parent): object 'stroke_train' not found\nTraceback:\n",
      "1. stroke_train %>% ggplot(aes(x = age, y = avg_glucose_level))",
      "2. eval(lhs, parent, parent)",
      "3. eval(lhs, parent, parent)"
     ]
    }
   ],
   "source": [
    "options(repr.plot.width = 14, repr.plot.height = 7)\n",
    "\n",
    "age_vs_avg_glucose_level_plot <- stroke_train %>% \n",
    "    ggplot(aes(x = age, y = avg_glucose_level))+\n",
    "    geom_point(aes(color = stroke, shape = stroke), alpha = 0.6)+\n",
    "    labs(x = \"Age (years)\", y = \"Average Glucose Level (mg/dL)\", fill = \"Stroke\")+\n",
    "    ggtitle(\"Age vs. Average Glucose Level\")+\n",
    "    theme(text = element_text(size = 20))+\n",
    "    #scale_fill_brewer(palette = \"Set2\")\n",
    "    scale_colour_manual(values = c(\"green\", \"black\"))\n",
    "\n",
    "age_vs_avg_glucose_level_plot"
   ]
  },
  {
   "cell_type": "markdown",
   "metadata": {},
   "source": [
    "This plot shows two possible predictors that can be used to classify the target variable (stroke). The higher the age of a patient, the greater amount of patients appear to have had strokes. However, there does not seem to be a greater number patients with strokes as the average glucose level increases or decreases."
   ]
  },
  {
   "cell_type": "code",
   "execution_count": 14,
   "metadata": {},
   "outputs": [
    {
     "ename": "ERROR",
     "evalue": "Error in eval(lhs, parent, parent): object 'stroke_train' not found\n",
     "output_type": "error",
     "traceback": [
      "Error in eval(lhs, parent, parent): object 'stroke_train' not found\nTraceback:\n",
      "1. stroke_train %>% ggplot(aes(x = age, y = bmi))",
      "2. eval(lhs, parent, parent)",
      "3. eval(lhs, parent, parent)"
     ]
    }
   ],
   "source": [
    "options(repr.plot.width = 14, repr.plot.height = 7)\n",
    "\n",
    "age_vs_bmi_plot <- stroke_train %>% \n",
    "    ggplot(aes(x = age, y = bmi))+\n",
    "    geom_point(aes(color = stroke, shape = stroke), alpha = 0.6)+\n",
    "    labs(x = \"Age (years)\", y = \"Body Mass Index\", fill = \"Stroke\")+\n",
    "    ggtitle(\"Age vs. BMI\")+\n",
    "    theme(text = element_text(size = 20))+\n",
    "    scale_colour_manual(values = c(\"green\", \"black\"))\n",
    "\n",
    "age_vs_bmi_plot"
   ]
  },
  {
   "cell_type": "markdown",
   "metadata": {},
   "source": [
    "This plot shows a greater density of stroke points in the upper, right hand corner. This means that patients with a higher BMI and older age were more prone to suffering from strokes."
   ]
  },
  {
   "cell_type": "code",
   "execution_count": 15,
   "metadata": {},
   "outputs": [
    {
     "ename": "ERROR",
     "evalue": "Error in eval(lhs, parent, parent): object 'stroke_train' not found\n",
     "output_type": "error",
     "traceback": [
      "Error in eval(lhs, parent, parent): object 'stroke_train' not found\nTraceback:\n",
      "1. stroke_train %>% ggplot(aes(y = bmi, x = avg_glucose_level))",
      "2. eval(lhs, parent, parent)",
      "3. eval(lhs, parent, parent)"
     ]
    }
   ],
   "source": [
    "bmi_vs_avg_glucose_level_plot <- stroke_train %>% \n",
    "    ggplot(aes(y = bmi, x = avg_glucose_level))+\n",
    "    geom_point(aes(color = stroke, shape = stroke), alpha = 0.6)+\n",
    "    labs(y = \"Body Mass Index\", x = \"Average Glucose Level\", fill = \"Stroke\")+\n",
    "    ggtitle(\"BMI vs. Average Glucose Level\")+\n",
    "    theme(text = element_text(size = 20))+\n",
    "    scale_colour_manual(values = c(\"green\", \"black\"))\n",
    "\n",
    "bmi_vs_avg_glucose_level_plot"
   ]
  },
  {
   "cell_type": "markdown",
   "metadata": {},
   "source": [
    "This plot shows a somewhat even distribution of the stroke points from left to right, however, there is much greater density of non-stroke points on the left side (lower average glucose level). This means that people with higher average glucose levels are more likely to experience strokes based on the graph. This relationship was unclear in the last graph containing average glucose level, likely due to it being graphed on the y-axis. The stroke points also correlate to a higher BMI."
   ]
  },
  {
   "cell_type": "markdown",
   "metadata": {},
   "source": [
    "### **Methods:**\n",
    "\n",
    "For our data analysis, we created 3 plots to see the relationship between BMI, age and average glucose level of the patient to see which factors contributed to strokes. 3 numerical variables in the dataset were considered because numerical variables best contribute to the kknn classification model. After observing all plots, we concluded that we would use all three variables examined because each showed a correlation to strokes (higher BMI, higher average glucose level, and older age).\n",
    "\n",
    "After creating a summary table analyzing the number of people that suffered from a stroke, we found a class imbalance as the 190 experienced a stroke whereas 3643 did not, which can lead to bias with the classifier. To solve this problem, when creating the classification model, we will rebalance the data by oversampling the stroke = 1 case to give it more voting power, resulting in a more accurate prediction.\n",
    "\n",
    "To predict the testing set, we will use cross-validation to split our training data. Then, we will create a recipe that specifies the class label and our 3 predictors and create nearest_neighbor model specification to choose the k with the highest accuracy. Consequently, we add the model and recipe to a workflow and pick a suitable k value. We will then use this value to come up with a prediction subsequently calculate the accuracy of our model.\n",
    "\n",
    "We will visualize the results by plotting the different predictors (using multiple different graphs), and whether or not the predictions were accurate."
   ]
  },
  {
   "cell_type": "markdown",
   "metadata": {},
   "source": [
    "### **Expected Outcomes and Significance:**\n",
    "\n",
    "We expect to find a trend that can help determine if a patient is more likely to suffer from a stroke. For example, being overweight or having a higher bmi, would mean the patient is more likely to suffer from a stroke. Also, patients of older age would be of higher risk of having a stroke. \n",
    "\n",
    "Using this prediction, predicting a stroke would be an easier and more efficient process. It could help many patients seek help at an early stage. Using this classification model, doctors and patients can easily input different diagnostics and obtain a prediction of whether they are at-risk for having a stroke, based on data from past patients. This could be used as a preliminary step in the process to diagnosing patients (or patients seeking diagnosis).\n",
    "\n",
    "This could lead to other questions such as what other numerical clinical features contribute to strokes, and can they improve the accuracy of the model? Additionally, this same method can be used to detemine predictions for other illnesses."
   ]
  },
  {
   "cell_type": "markdown",
   "metadata": {},
   "source": [
    "### **START OF PROJECT**"
   ]
  },
  {
   "cell_type": "code",
   "execution_count": 16,
   "metadata": {},
   "outputs": [],
   "source": [
    "stroke_data_scaled <- stroke_data %>% \n",
    "    mutate(scaled_age = scale(age, center = TRUE),\n",
    "            scaled_bmi = scale(bmi, center = TRUE),\n",
    "            scaled_avg_glucose_level = scale(avg_glucose_level, center = TRUE))"
   ]
  },
  {
   "cell_type": "code",
   "execution_count": 17,
   "metadata": {},
   "outputs": [
    {
     "ename": "ERROR",
     "evalue": "Error in recipe(stroke ~ age + bmi + avg_glucose_level, data = stroke_train): could not find function \"recipe\"\n",
     "output_type": "error",
     "traceback": [
      "Error in recipe(stroke ~ age + bmi + avg_glucose_level, data = stroke_train): could not find function \"recipe\"\nTraceback:\n",
      "1. recipe(stroke ~ age + bmi + avg_glucose_level, data = stroke_train) %>% \n .     step_upsample(stroke, over_ratio = 1, skip = FALSE) %>% prep()",
      "2. eval(lhs, parent, parent)",
      "3. eval(lhs, parent, parent)"
     ]
    }
   ],
   "source": [
    "\n",
    "ups_recipe <- recipe(stroke ~ age + bmi + avg_glucose_level, data = stroke_train) %>% \n",
    "    step_upsample(stroke, over_ratio = 1, skip = FALSE) %>% \n",
    "    prep()\n",
    "\n",
    "upsampled_stroke <- bake(ups_recipe, stroke_data)\n",
    "\n",
    "upsampled_stroke %>% \n",
    "    group_by(stroke) %>% \n",
    "    summarize(n = n())"
   ]
  },
  {
   "cell_type": "code",
   "execution_count": null,
   "metadata": {},
   "outputs": [],
   "source": []
  }
 ],
 "metadata": {
  "kernelspec": {
   "display_name": "R",
   "language": "R",
   "name": "ir"
  },
  "language_info": {
   "codemirror_mode": "r",
   "file_extension": ".r",
   "mimetype": "text/x-r-source",
   "name": "R",
   "pygments_lexer": "r",
   "version": "4.0.0"
  }
 },
 "nbformat": 4,
 "nbformat_minor": 4
}
